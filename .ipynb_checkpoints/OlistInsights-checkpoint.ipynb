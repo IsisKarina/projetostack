{
 "cells": [
  {
   "cell_type": "markdown",
   "id": "94b6a40a",
   "metadata": {},
   "source": [
    "<h1> Análise exploratória sobre os datasets da OLIST <h1>"
   ]
  },
  {
   "cell_type": "markdown",
   "id": "f62fc179",
   "metadata": {},
   "source": [
    "Importando bibliotecas"
   ]
  },
  {
   "cell_type": "code",
   "execution_count": 2,
   "id": "891eb7f6",
   "metadata": {},
   "outputs": [],
   "source": [
    "import pandas as pd\n",
    "import numpy as np\n",
    "import matplotlib\n",
    "from matplotlib import pyplot as plt\n",
    "import seaborn as sns\n",
    "from datetime import datetime"
   ]
  },
  {
   "cell_type": "markdown",
   "id": "93f10ff9",
   "metadata": {},
   "source": [
    "<h2> Importando os dados e tratando para a análise </h2>"
   ]
  },
  {
   "cell_type": "code",
   "execution_count": 3,
   "id": "7d0cd513",
   "metadata": {},
   "outputs": [],
   "source": [
    "# Importando os datasets \n",
    "\n",
    "products = pd.read_csv(r'csvs\\archive\\olist_products_dataset.csv', index_col=False)\n",
    "items = pd.read_csv(r'csvs\\archive\\olist_order_items_dataset.csv', index_col=False)\n",
    "customers = pd.read_csv(r'csvs\\archive\\olist_customers_dataset.csv', index_col=False)\n",
    "geolocation = pd.read_csv(r'csvs\\archive\\olist_geolocation_dataset.csv',  index_col=False)\n",
    "payments = pd.read_csv(r'csvs\\archive\\olist_order_payments_dataset.csv',  index_col=False)\n",
    "orders = pd.read_csv(r'csvs\\archive\\olist_orders_dataset.csv',  index_col=False)\n",
    "reviews = pd.read_csv(r'csvs\\archive\\olist_order_reviews_dataset.csv',  index_col=False)\n",
    "sellers = pd.read_csv(r'csvs\\archive\\olist_sellers_dataset.csv',  index_col=False)"
   ]
  },
  {
   "cell_type": "code",
   "execution_count": null,
   "id": "8663735d",
   "metadata": {},
   "outputs": [],
   "source": []
  },
  {
   "cell_type": "code",
   "execution_count": null,
   "id": "ace94ebb",
   "metadata": {},
   "outputs": [],
   "source": []
  },
  {
   "cell_type": "code",
   "execution_count": null,
   "id": "053ccf4a",
   "metadata": {},
   "outputs": [],
   "source": []
  }
 ],
 "metadata": {
  "kernelspec": {
   "display_name": "Python 3",
   "language": "python",
   "name": "python3"
  },
  "language_info": {
   "codemirror_mode": {
    "name": "ipython",
    "version": 3
   },
   "file_extension": ".py",
   "mimetype": "text/x-python",
   "name": "python",
   "nbconvert_exporter": "python",
   "pygments_lexer": "ipython3",
   "version": "3.8.8"
  }
 },
 "nbformat": 4,
 "nbformat_minor": 5
}
